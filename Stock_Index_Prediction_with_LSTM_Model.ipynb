{
  "nbformat": 4,
  "nbformat_minor": 0,
  "metadata": {
    "colab": {
      "provenance": [],
      "authorship_tag": "ABX9TyPzrK6qfZ58TJtmiwDianOJ",
      "include_colab_link": true
    },
    "kernelspec": {
      "name": "python3",
      "display_name": "Python 3"
    },
    "language_info": {
      "name": "python"
    }
  },
  "cells": [
    {
      "cell_type": "markdown",
      "metadata": {
        "id": "view-in-github",
        "colab_type": "text"
      },
      "source": [
        "<a href=\"https://colab.research.google.com/github/atyonzen/projects/blob/main/Stock_Index_Prediction_with_LSTM_Model.ipynb\" target=\"_parent\"><img src=\"https://colab.research.google.com/assets/colab-badge.svg\" alt=\"Open In Colab\"/></a>"
      ]
    },
    {
      "cell_type": "code",
      "execution_count": 1,
      "metadata": {
        "id": "xYjsmwQhiLVN"
      },
      "outputs": [],
      "source": [
        "# Setup the environment varibles\n",
        "import os\n",
        "# import sys\n",
        "os.environ['KERAS_BACKEND'] = 'tensorflow'\n",
        "os.environ['TF_ENABLE_ONEDNN_OPTS'] = '0'\n",
        "# Add path to custom modules\n",
        "# sys.path.append('d:\\\\data sceince with python\\\\model_helpers')\n",
        "# sys.path.remove('d:\\\\data sceince with python\\\\model_builder')\n",
        "# print(sys.path)\n",
        "\n",
        "# Define custom variables\n",
        "EPOCHS = 200\n",
        "MAX_EPOCHS = 3 # max_epochs = 8 or 10 seems good for large or small sample\n",
        "LOOK_BACK = 7 # window size for time series data\n",
        "DISABLE_RESUME = False\n",
        "# csv file name without file extension\n",
        "file_name = 'nepsealpha0c'\n",
        "executions_per_trial=10"
      ]
    }
  ]
}